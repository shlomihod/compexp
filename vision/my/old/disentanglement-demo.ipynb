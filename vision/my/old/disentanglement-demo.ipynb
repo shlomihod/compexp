{
 "cells": [
  {
   "cell_type": "code",
   "execution_count": 1,
   "id": "ecological-multiple",
   "metadata": {},
   "outputs": [],
   "source": [
    "%load_ext autoreload\n",
    "%autoreload 2"
   ]
  },
  {
   "cell_type": "code",
   "execution_count": 2,
   "id": "roman-gossip",
   "metadata": {},
   "outputs": [],
   "source": [
    "import sys\n",
    "sys.path.append('..')"
   ]
  },
  {
   "cell_type": "code",
   "execution_count": 3,
   "id": "angry-passenger",
   "metadata": {},
   "outputs": [],
   "source": [
    "import numpy as np\n",
    "\n",
    "import torch\n",
    "import torch.nn as nn\n",
    "import torch.nn.functional as F\n",
    "import torch.optim as optim\n",
    "\n",
    "from PIL import Image\n",
    "import matplotlib.pyplot as plt\n",
    "\n",
    "import torchvision\n",
    "import torchvision.transforms as transforms\n",
    "import torchvision.models as models\n",
    "\n",
    "import copy"
   ]
  },
  {
   "cell_type": "code",
   "execution_count": 4,
   "id": "colonial-result",
   "metadata": {},
   "outputs": [],
   "source": [
    "device = torch.device('cuda' if torch.cuda.is_available() else 'cpu')"
   ]
  },
  {
   "cell_type": "code",
   "execution_count": 5,
   "id": "french-argument",
   "metadata": {},
   "outputs": [],
   "source": [
    "from rosettastone.disentanglement import disentangle_cnn\n",
    "from rosettastone.testing import (build_cnn_testbed,\n",
    "                                  load_cifar10,\n",
    "                                  test_disentanglement_cnn)\n",
    "\n",
    "import wandb"
   ]
  },
  {
   "cell_type": "code",
   "execution_count": 6,
   "id": "convenient-fifty",
   "metadata": {},
   "outputs": [
    {
     "name": "stderr",
     "output_type": "stream",
     "text": [
      "\u001b[34m\u001b[1mwandb\u001b[0m: Currently logged in as: \u001b[33mshlomihod\u001b[0m (use `wandb login --relogin` to force relogin)\n"
     ]
    },
    {
     "data": {
      "text/plain": [
       "True"
      ]
     },
     "execution_count": 6,
     "metadata": {},
     "output_type": "execute_result"
    }
   ],
   "source": [
    "wandb.login()"
   ]
  },
  {
   "cell_type": "code",
   "execution_count": 7,
   "id": "convertible-pocket",
   "metadata": {},
   "outputs": [
    {
     "name": "stdout",
     "output_type": "stream",
     "text": [
      "Files already downloaded and verified\n",
      "Files already downloaded and verified\n",
      "Accuracy of the network on the 10000 test images: 44 %\n",
      "Files already downloaded and verified\n",
      "Files already downloaded and verified\n"
     ]
    }
   ],
   "source": [
    "test_disentanglement_cnn(device)"
   ]
  },
  {
   "cell_type": "code",
   "execution_count": 8,
   "id": "patent-documentation",
   "metadata": {},
   "outputs": [
    {
     "name": "stdout",
     "output_type": "stream",
     "text": [
      "Files already downloaded and verified\n",
      "Files already downloaded and verified\n",
      "Accuracy of the network on the 10000 test images: 42 %\n"
     ]
    }
   ],
   "source": [
    "net = build_cnn_testbed(True, verbose=False, device=device)"
   ]
  },
  {
   "cell_type": "code",
   "execution_count": 9,
   "id": "orange-bedroom",
   "metadata": {},
   "outputs": [
    {
     "name": "stdout",
     "output_type": "stream",
     "text": [
      "Files already downloaded and verified\n",
      "Files already downloaded and verified\n"
     ]
    },
    {
     "name": "stderr",
     "output_type": "stream",
     "text": [
      "  0%|          | 0/3 [00:00<?, ?it/s]"
     ]
    },
    {
     "name": "stdout",
     "output_type": "stream",
     "text": [
      "Loss after 00768 examples: 0.003\n",
      "Loss after 01568 examples: 0.002\n",
      "Loss after 02368 examples: -0.000\n",
      "Loss after 03168 examples: 0.000\n",
      "Loss after 03968 examples: -0.001\n",
      "Loss after 04768 examples: -0.001\n",
      "Loss after 05568 examples: 0.000\n",
      "Loss after 06368 examples: 0.002\n",
      "Loss after 07168 examples: 0.001\n",
      "Loss after 07968 examples: 0.002\n",
      "Loss after 08768 examples: 0.000\n",
      "Loss after 09568 examples: 0.001\n",
      "Loss after 10368 examples: 0.001\n",
      "Loss after 11168 examples: -0.000\n",
      "Loss after 11968 examples: 0.001\n",
      "Loss after 12768 examples: -0.002\n",
      "Loss after 13568 examples: -0.000\n",
      "Loss after 14368 examples: 0.004\n",
      "Loss after 15168 examples: 0.002\n",
      "Loss after 15968 examples: 0.001\n",
      "Loss after 16768 examples: 0.000\n",
      "Loss after 17568 examples: -0.001\n",
      "Loss after 18368 examples: 0.001\n",
      "Loss after 19168 examples: -0.004\n",
      "Loss after 19968 examples: 0.001\n",
      "Loss after 20768 examples: -0.004\n",
      "Loss after 21568 examples: -0.001\n",
      "Loss after 22368 examples: 0.005\n",
      "Loss after 23168 examples: -0.001\n",
      "Loss after 23968 examples: -0.000\n",
      "Loss after 24768 examples: 0.000\n",
      "Loss after 25568 examples: -0.001\n",
      "Loss after 26368 examples: -0.000\n",
      "Loss after 27168 examples: 0.007\n",
      "Loss after 27968 examples: -0.001\n",
      "Loss after 28768 examples: 0.003\n",
      "Loss after 29568 examples: -0.002\n",
      "Loss after 30368 examples: 0.001\n",
      "Loss after 31168 examples: -0.004\n",
      "Loss after 31968 examples: -0.005\n",
      "Loss after 32768 examples: -0.000\n",
      "Loss after 33568 examples: 0.003\n",
      "Loss after 34368 examples: 0.003\n",
      "Loss after 35168 examples: 0.000\n",
      "Loss after 35968 examples: -0.001\n",
      "Loss after 36768 examples: -0.001\n",
      "Loss after 37568 examples: 0.002\n",
      "Loss after 38368 examples: 0.001\n",
      "Loss after 39168 examples: 0.000\n",
      "Loss after 39968 examples: 0.002\n",
      "Loss after 40768 examples: 0.004\n",
      "Loss after 41568 examples: 0.000\n",
      "Loss after 42368 examples: -0.000\n",
      "Loss after 43168 examples: -0.001\n",
      "Loss after 43968 examples: 0.001\n",
      "Loss after 44768 examples: 0.002\n",
      "Loss after 45568 examples: -0.002\n",
      "Loss after 46368 examples: -0.001\n",
      "Loss after 47168 examples: 0.003\n",
      "Loss after 47968 examples: 0.007\n",
      "Loss after 48768 examples: 0.003\n",
      "Loss after 49568 examples: 0.003\n"
     ]
    },
    {
     "name": "stderr",
     "output_type": "stream",
     "text": [
      " 33%|███▎      | 1/3 [00:29<00:59, 29.98s/it]"
     ]
    },
    {
     "name": "stdout",
     "output_type": "stream",
     "text": [
      "Loss after 50352 examples: 0.003\n",
      "Loss after 51152 examples: 0.007\n",
      "Loss after 51952 examples: 0.003\n",
      "Loss after 52752 examples: -0.001\n",
      "Loss after 53552 examples: -0.001\n",
      "Loss after 54352 examples: 0.003\n",
      "Loss after 55152 examples: 0.000\n",
      "Loss after 55952 examples: 0.001\n",
      "Loss after 56752 examples: 0.007\n",
      "Loss after 57552 examples: 0.004\n",
      "Loss after 58352 examples: -0.003\n",
      "Loss after 59152 examples: 0.001\n",
      "Loss after 59952 examples: 0.000\n",
      "Loss after 60752 examples: -0.001\n",
      "Loss after 61552 examples: -0.004\n",
      "Loss after 62352 examples: 0.002\n",
      "Loss after 63152 examples: -0.002\n",
      "Loss after 63952 examples: -0.002\n",
      "Loss after 64752 examples: 0.005\n",
      "Loss after 65552 examples: -0.004\n",
      "Loss after 66352 examples: 0.001\n",
      "Loss after 67152 examples: -0.003\n",
      "Loss after 67952 examples: -0.008\n",
      "Loss after 68752 examples: -0.008\n",
      "Loss after 69552 examples: 0.007\n",
      "Loss after 70352 examples: 0.010\n",
      "Loss after 71152 examples: 0.000\n",
      "Loss after 71952 examples: 0.002\n",
      "Loss after 72752 examples: -0.000\n",
      "Loss after 73552 examples: -0.003\n",
      "Loss after 74352 examples: -0.000\n",
      "Loss after 75152 examples: -0.005\n",
      "Loss after 75952 examples: 0.001\n",
      "Loss after 76752 examples: 0.010\n",
      "Loss after 77552 examples: -0.007\n",
      "Loss after 78352 examples: -0.003\n",
      "Loss after 79152 examples: 0.007\n",
      "Loss after 79952 examples: 0.006\n",
      "Loss after 80752 examples: -0.008\n",
      "Loss after 81552 examples: 0.003\n",
      "Loss after 82352 examples: -0.007\n",
      "Loss after 83152 examples: -0.004\n",
      "Loss after 83952 examples: -0.005\n",
      "Loss after 84752 examples: 0.009\n",
      "Loss after 85552 examples: 0.002\n",
      "Loss after 86352 examples: 0.006\n",
      "Loss after 87152 examples: -0.002\n",
      "Loss after 87952 examples: 0.000\n",
      "Loss after 88752 examples: -0.003\n",
      "Loss after 89552 examples: 0.001\n",
      "Loss after 90352 examples: -0.001\n",
      "Loss after 91152 examples: -0.003\n",
      "Loss after 91952 examples: -0.002\n",
      "Loss after 92752 examples: 0.002\n",
      "Loss after 93552 examples: -0.001\n",
      "Loss after 94352 examples: 0.001\n",
      "Loss after 95152 examples: 0.000\n",
      "Loss after 95952 examples: 0.002\n",
      "Loss after 96752 examples: 0.004\n",
      "Loss after 97552 examples: 0.003\n",
      "Loss after 98352 examples: 0.002\n",
      "Loss after 99152 examples: 0.003\n",
      "Loss after 99952 examples: -0.002\n"
     ]
    },
    {
     "name": "stderr",
     "output_type": "stream",
     "text": [
      " 67%|██████▋   | 2/3 [01:00<00:30, 30.14s/it]"
     ]
    },
    {
     "name": "stdout",
     "output_type": "stream",
     "text": [
      "Loss after 100736 examples: 0.003\n",
      "Loss after 101536 examples: 0.003\n",
      "Loss after 102336 examples: -0.004\n",
      "Loss after 103136 examples: -0.005\n",
      "Loss after 103936 examples: -0.005\n",
      "Loss after 104736 examples: 0.002\n",
      "Loss after 105536 examples: 0.001\n",
      "Loss after 106336 examples: 0.003\n",
      "Loss after 107136 examples: -0.004\n",
      "Loss after 107936 examples: -0.002\n",
      "Loss after 108736 examples: -0.002\n",
      "Loss after 109536 examples: -0.002\n",
      "Loss after 110336 examples: -0.004\n",
      "Loss after 111136 examples: 0.002\n",
      "Loss after 111936 examples: 0.000\n",
      "Loss after 112736 examples: 0.003\n",
      "Loss after 113536 examples: -0.003\n",
      "Loss after 114336 examples: -0.001\n",
      "Loss after 115136 examples: 0.001\n",
      "Loss after 115936 examples: -0.003\n",
      "Loss after 116736 examples: 0.003\n",
      "Loss after 117536 examples: 0.001\n",
      "Loss after 118336 examples: -0.003\n",
      "Loss after 119136 examples: -0.001\n",
      "Loss after 119936 examples: -0.003\n",
      "Loss after 120736 examples: 0.001\n",
      "Loss after 121536 examples: -0.002\n",
      "Loss after 122336 examples: -0.002\n",
      "Loss after 123136 examples: 0.001\n",
      "Loss after 123936 examples: -0.002\n",
      "Loss after 124736 examples: -0.001\n",
      "Loss after 125536 examples: 0.004\n",
      "Loss after 126336 examples: -0.002\n",
      "Loss after 127136 examples: -0.001\n",
      "Loss after 127936 examples: 0.001\n",
      "Loss after 128736 examples: -0.005\n",
      "Loss after 129536 examples: 0.003\n",
      "Loss after 130336 examples: -0.001\n",
      "Loss after 131136 examples: 0.000\n",
      "Loss after 131936 examples: 0.002\n",
      "Loss after 132736 examples: 0.001\n",
      "Loss after 133536 examples: -0.005\n",
      "Loss after 134336 examples: -0.004\n",
      "Loss after 135136 examples: -0.002\n",
      "Loss after 135936 examples: 0.000\n",
      "Loss after 136736 examples: 0.003\n",
      "Loss after 137536 examples: 0.000\n",
      "Loss after 138336 examples: -0.005\n",
      "Loss after 139136 examples: -0.001\n",
      "Loss after 139936 examples: 0.001\n",
      "Loss after 140736 examples: -0.004\n",
      "Loss after 141536 examples: -0.002\n",
      "Loss after 142336 examples: 0.002\n",
      "Loss after 143136 examples: 0.009\n",
      "Loss after 143936 examples: -0.003\n",
      "Loss after 144736 examples: -0.004\n",
      "Loss after 145536 examples: 0.003\n",
      "Loss after 146336 examples: 0.005\n",
      "Loss after 147136 examples: 0.000\n",
      "Loss after 147936 examples: 0.006\n",
      "Loss after 148736 examples: 0.001\n",
      "Loss after 149536 examples: -0.002\n"
     ]
    },
    {
     "name": "stderr",
     "output_type": "stream",
     "text": [
      "100%|██████████| 3/3 [01:30<00:00, 30.19s/it]\n"
     ]
    },
    {
     "name": "stdout",
     "output_type": "stream",
     "text": [
      "{'test_accuracy_orig': 0.4231, 'test_accuracy_alt': 0.4229}\n"
     ]
    }
   ],
   "source": [
    "trainloader, testloader = load_cifar10()\n",
    "\n",
    "_ = disentangle_cnn(net, 'conv2', 15, 'fc1',\n",
    "                    train_dataloader=trainloader,\n",
    "                    first_concept_dataloader=trainloader,\n",
    "                    second_concept_dataloader=trainloader,\n",
    "                    test_dataloader=testloader,\n",
    "                    gamma=0.01,\n",
    "                    with_wandb=False,\n",
    "                    device=device)"
   ]
  }
 ],
 "metadata": {
  "kernelspec": {
   "display_name": "Python 3",
   "language": "python",
   "name": "python3"
  },
  "language_info": {
   "codemirror_mode": {
    "name": "ipython",
    "version": 3
   },
   "file_extension": ".py",
   "mimetype": "text/x-python",
   "name": "python",
   "nbconvert_exporter": "python",
   "pygments_lexer": "ipython3",
   "version": "3.8.5"
  }
 },
 "nbformat": 4,
 "nbformat_minor": 5
}
