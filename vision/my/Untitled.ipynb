{
 "cells": [
  {
   "cell_type": "markdown",
   "id": "medieval-quick",
   "metadata": {},
   "source": [
    "# Rosetta Stone"
   ]
  },
  {
   "cell_type": "code",
   "execution_count": 2,
   "id": "italian-sympathy",
   "metadata": {},
   "outputs": [],
   "source": [
    "%load_ext autoreload\n",
    "%autoreload 2"
   ]
  },
  {
   "cell_type": "code",
   "execution_count": 3,
   "id": "marked-comedy",
   "metadata": {},
   "outputs": [],
   "source": [
    "import numpy as np\n",
    "import pandas as pd\n",
    "import matplotlib.pylab as plt\n",
    "import seaborn as sns\n",
    "\n",
    "import torch\n",
    "import torchvision\n",
    "from torchvision import transforms\n",
    "\n"
   ]
  },
  {
   "cell_type": "code",
   "execution_count": 4,
   "id": "classical-chambers",
   "metadata": {},
   "outputs": [
    {
     "name": "stdout",
     "output_type": "stream",
     "text": [
      "/notebooks/compexp/vision\n",
      "result/resnet18_places365_broden_ade20k_neuron_3\n"
     ]
    }
   ],
   "source": [
    "import os\n",
    "\n",
    "os.chdir('/notebooks/compexp/vision/')\n",
    "print(os.getcwd())\n",
    "\n",
    "import sys\n",
    "\n",
    "sys.path.append('./my')\n",
    "from rosettastone import maxact\n",
    "\n",
    "sys.path.append('')\n",
    "import settings\n",
    "from loader.model_loader import loadmodel"
   ]
  },
  {
   "cell_type": "raw",
   "id": "returning-uzbekistan",
   "metadata": {},
   "source": [
    "from torch.utils.data import Dataset\n",
    "\n",
    "class Broden(Dataset):\n",
    "    \"\"\"Broadly and Densely Labeled Dataset.\"\"\"\n",
    "\n",
    "    def __init__(self, csv_file, root_dir, transform=None):\n",
    "        \"\"\"\n",
    "        Args:\n",
    "            csv_file (string): Path to the csv file with annotations.\n",
    "            root_dir (string): Directory with all the images.\n",
    "            transform (callable, optional): Optional transform to be applied\n",
    "                on a sample.\n",
    "        \"\"\"\n",
    "        self.df = pd.read_csv(csv_file)\n",
    "        self.root_dir = root_dir\n",
    "        self.transform = transform\n",
    "\n",
    "    def __len__(self):\n",
    "        return len(self.df)\n",
    "\n",
    "    def __getitem__(self, idx):\n",
    "        if torch.is_tensor(idx):\n",
    "            idx = idx.tolist()\n",
    "\n",
    "        img_name = os.path.join(self.root_dir,\n",
    "                                self.landmarks_frame.iloc[idx, 0])\n",
    "        image = io.imread(img_name)\n",
    "        landmarks = self.landmarks_frame.iloc[idx, 1:]\n",
    "        landmarks = np.array([landmarks])\n",
    "        landmarks = landmarks.astype('float').reshape(-1, 2)\n",
    "        sample = {'image': image, 'landmarks': landmarks}\n",
    "\n",
    "        if self.transform:\n",
    "            sample = self.transform(sample)\n",
    "\n",
    "        return sample"
   ]
  },
  {
   "cell_type": "code",
   "execution_count": null,
   "id": "numerous-green",
   "metadata": {},
   "outputs": [
    {
     "name": "stdout",
     "output_type": "stream",
     "text": [
      "result/resnet18_places365_broden_ade20k_neuron_2\n"
     ]
    }
   ],
   "source": [
    "model = loadmodel(None)\n",
    "\n",
    "\n",
    "def normalize_image(rgb_image):\n",
    "    img = np.array(rgb_image, dtype=np.float32).copy()\n",
    "    img = img[:, ::-1]\n",
    "    img -= [109.5388, 118.6897, 124.6901]\n",
    "    img = img.transpose((2, 0, 1))\n",
    "    \n",
    "    # accuracy is better without rgb -> bgr, not clear why it is necessery\n",
    "    # perhaps it is necesseray for ADE20K? Don't know right now.\n",
    "    # img = torch.from_numpy(img[::-1, :, :].copy())\n",
    "    \n",
    "    img = torch.from_numpy(img.copy())\n",
    "    img = img.div_(255.0 * 0.224)\n",
    "    \n",
    "    return img\n",
    "\n",
    "\n",
    "# preprocess = transforms.Compose([\n",
    "#     transforms.Resize(224),\n",
    "#     transforms.CenterCrop(224),\n",
    "#     transforms.ToTensor(),\n",
    "#     transforms.Normalize(mean=[0.485, 0.456, 0.406], std=[0.229, 0.224, 0.225]),\n",
    "# ])\n",
    "\n",
    "\n",
    "# maxact.set_seed(42)\n",
    "place365_dataset = torchvision.datasets.Places365(root='/notebooks/compexp/vision/my/data', split='val', small=True,\n",
    "                                         transform=transforms.Lambda(normalize_image))\n",
    "place365_dataloader = torch.utils.data.DataLoader(place365_dataset, batch_size=32, num_workers=8, shuffle=False)\n",
    "\n",
    "activations = maxact.harvest_activations(model, place365_dataloader, {'layer4'})"
   ]
  },
  {
   "cell_type": "code",
   "execution_count": null,
   "id": "excellent-default",
   "metadata": {},
   "outputs": [],
   "source": [
    "maxact.visualize_neuron('layer4', 6, model, activations, place365_dataset)"
   ]
  },
  {
   "cell_type": "code",
   "execution_count": null,
   "id": "valued-edinburgh",
   "metadata": {},
   "outputs": [],
   "source": []
  },
  {
   "cell_type": "code",
   "execution_count": null,
   "id": "accompanied-scoop",
   "metadata": {},
   "outputs": [],
   "source": []
  },
  {
   "cell_type": "code",
   "execution_count": null,
   "id": "outside-queue",
   "metadata": {},
   "outputs": [],
   "source": []
  },
  {
   "cell_type": "code",
   "execution_count": null,
   "id": "destroyed-dover",
   "metadata": {},
   "outputs": [],
   "source": []
  },
  {
   "cell_type": "code",
   "execution_count": null,
   "id": "interracial-america",
   "metadata": {},
   "outputs": [],
   "source": []
  },
  {
   "cell_type": "code",
   "execution_count": null,
   "id": "stylish-charge",
   "metadata": {},
   "outputs": [],
   "source": []
  },
  {
   "cell_type": "code",
   "execution_count": null,
   "id": "brown-estate",
   "metadata": {},
   "outputs": [],
   "source": []
  },
  {
   "cell_type": "code",
   "execution_count": null,
   "id": "welsh-lover",
   "metadata": {},
   "outputs": [],
   "source": [
    "df = pd.read_csv('../result/resnet18_places365_broden_ade20k_neuron_2/tally_layer4.csv')"
   ]
  },
  {
   "cell_type": "code",
   "execution_count": null,
   "id": "purple-helicopter",
   "metadata": {},
   "outputs": [],
   "source": [
    "df.head()"
   ]
  },
  {
   "cell_type": "code",
   "execution_count": null,
   "id": "magnetic-specific",
   "metadata": {},
   "outputs": [],
   "source": []
  }
 ],
 "metadata": {
  "kernelspec": {
   "display_name": "Python 3",
   "language": "python",
   "name": "python3"
  },
  "language_info": {
   "codemirror_mode": {
    "name": "ipython",
    "version": 3
   },
   "file_extension": ".py",
   "mimetype": "text/x-python",
   "name": "python",
   "nbconvert_exporter": "python",
   "pygments_lexer": "ipython3",
   "version": "3.8.5"
  }
 },
 "nbformat": 4,
 "nbformat_minor": 5
}
